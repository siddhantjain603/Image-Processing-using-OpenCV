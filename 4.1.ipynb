{
 "cells": [
  {
   "cell_type": "code",
   "execution_count": 14,
   "metadata": {},
   "outputs": [],
   "source": [
    "import cv2\n",
    "import numpy \n",
    "\n",
    "img=numpy.zeros((1000,1000,3))\n",
    "\n"
   ]
  },
  {
   "cell_type": "code",
   "execution_count": 15,
   "metadata": {},
   "outputs": [],
   "source": [
    "#left semicircle\n",
    "radius=100\n",
    "axes = (radius,radius)\n",
    "angle=0;\n",
    "startAngle=0;\n",
    "endAngle=-180;\n",
    "center=(350,250)\n",
    "\n",
    "\n",
    "a=cv2.ellipse(img, center, axes, angle, startAngle, endAngle, color=(0,0,255),thickness=-1)"
   ]
  },
  {
   "cell_type": "code",
   "execution_count": 19,
   "metadata": {},
   "outputs": [],
   "source": [
    "#Right semicircle\n",
    "radius=100\n",
    "axes = (radius,radius)\n",
    "angle=0;\n",
    "startAngle=0;\n",
    "endAngle=-180;\n",
    "center=(550,250)\n",
    "\n",
    "\n",
    "v=cv2.ellipse(img, center, axes, angle, startAngle, endAngle, color=(0,0,255),thickness=-1)"
   ]
  },
  {
   "cell_type": "code",
   "execution_count": 20,
   "metadata": {},
   "outputs": [],
   "source": [
    "#Bottom part\n",
    "p1 = (250,250)\n",
    "p2 = (450,500)\n",
    "p3 = (650,250)\n",
    "t_cnt=numpy.array([p1,p2,p3])\n",
    "triangle=cv2.drawContours(img,[t_cnt],0,(0,0,255),-1)"
   ]
  },
  {
   "cell_type": "code",
   "execution_count": 22,
   "metadata": {},
   "outputs": [],
   "source": [
    "cv2.imshow('hi',img)\n",
    "cv2.waitKey()\n",
    "cv2.destroyAllWindows()"
   ]
  },
  {
   "cell_type": "code",
   "execution_count": null,
   "metadata": {},
   "outputs": [],
   "source": []
  }
 ],
 "metadata": {
  "kernelspec": {
   "display_name": "Python 3",
   "language": "python",
   "name": "python3"
  },
  "language_info": {
   "codemirror_mode": {
    "name": "ipython",
    "version": 3
   },
   "file_extension": ".py",
   "mimetype": "text/x-python",
   "name": "python",
   "nbconvert_exporter": "python",
   "pygments_lexer": "ipython3",
   "version": "3.8.3"
  }
 },
 "nbformat": 4,
 "nbformat_minor": 4
}
